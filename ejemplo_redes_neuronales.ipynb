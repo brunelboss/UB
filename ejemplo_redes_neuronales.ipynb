{
  "nbformat": 4,
  "nbformat_minor": 0,
  "metadata": {
    "kernelspec": {
      "display_name": "Python 3",
      "language": "python",
      "name": "python3"
    },
    "language_info": {
      "codemirror_mode": {
        "name": "ipython",
        "version": 3
      },
      "file_extension": ".py",
      "mimetype": "text/x-python",
      "name": "python",
      "nbconvert_exporter": "python",
      "pygments_lexer": "ipython3",
      "version": "3.7.3"
    },
    "colab": {
      "name": "Copia de redes_neuronales.ipynb",
      "provenance": [],
      "collapsed_sections": [],
      "include_colab_link": true
    }
  },
  "cells": [
    {
      "cell_type": "markdown",
      "metadata": {
        "id": "view-in-github",
        "colab_type": "text"
      },
      "source": [
        "<a href=\"https://colab.research.google.com/github/brunelboss/UB/blob/main/ejemplo_redes_neuronales.ipynb\" target=\"_parent\"><img src=\"https://colab.research.google.com/assets/colab-badge.svg\" alt=\"Open In Colab\"/></a>"
      ]
    },
    {
      "cell_type": "code",
      "metadata": {
        "id": "zXZKGFFTvyXa"
      },
      "source": [
        "import pandas as pd\n",
        "import matplotlib.pyplot as plt\n",
        "import numpy as np\n",
        "from datetime import datetime"
      ],
      "execution_count": 1,
      "outputs": []
    },
    {
      "cell_type": "code",
      "metadata": {
        "id": "8ysTSx2wvyYm"
      },
      "source": [
        "def transform(stock):\n",
        "    stock['diff_Open_Close']=stock.Open-stock.Close\n",
        "    print('PRETRANSFORM')\n",
        "    df=pd.DataFrame(stock['Adj Close'])\n",
        "    df['diff Open Close']=stock.Open-stock.Close\n",
        "    df['Volume']=stock.Volume\n",
        "    print('TRANSFORM')\n",
        "    return df"
      ],
      "execution_count": 2,
      "outputs": []
    },
    {
      "cell_type": "code",
      "metadata": {
        "id": "2JBvXHW0PIvf",
        "outputId": "08c6c984-6e9e-4e92-8eb7-3f65fca56ad9",
        "colab": {
          "base_uri": "https://localhost:8080/"
        }
      },
      "source": [
        "!pip install pykalman\n",
        "from pykalman import KalmanFilter\n",
        "def kalman_filter(df):\n",
        "  x=df['Adj Close']\n",
        "# Construct a Kalman filter\n",
        "  kf = KalmanFilter(transition_matrices = [1],\n",
        "                  observation_matrices = [1],\n",
        "                  initial_state_mean = 0,\n",
        "                  initial_state_covariance = 1,\n",
        "                  observation_covariance=1,\n",
        "                  transition_covariance=.05)\n",
        "\n",
        "# Use the observed values of the price to get a rolling mean\n",
        "  state_means, _ = kf.filter(x.values)\n",
        "  df['Adj Close']=state_means.flatten()\n",
        "  \n",
        "  df=df.drop(df.index.values[:6])\n",
        "  return df\n"
      ],
      "execution_count": 3,
      "outputs": [
        {
          "output_type": "stream",
          "name": "stdout",
          "text": [
            "Looking in indexes: https://pypi.org/simple, https://us-python.pkg.dev/colab-wheels/public/simple/\n",
            "Collecting pykalman\n",
            "  Downloading pykalman-0.9.5.tar.gz (228 kB)\n",
            "\u001b[K     |████████████████████████████████| 228 kB 5.1 MB/s \n",
            "\u001b[?25hBuilding wheels for collected packages: pykalman\n",
            "  Building wheel for pykalman (setup.py) ... \u001b[?25l\u001b[?25hdone\n",
            "  Created wheel for pykalman: filename=pykalman-0.9.5-py3-none-any.whl size=48462 sha256=c1bdcefb5c243cd861b04ed47ddc63dbd635b9f5a31be3d0e2447cff017be580\n",
            "  Stored in directory: /root/.cache/pip/wheels/6a/04/02/2dda6ea59c66d9e685affc8af3a31ad3a5d87b7311689efce6\n",
            "Successfully built pykalman\n",
            "Installing collected packages: pykalman\n",
            "Successfully installed pykalman-0.9.5\n"
          ]
        }
      ]
    },
    {
      "cell_type": "code",
      "metadata": {
        "id": "m92KYfntvyY1"
      },
      "source": [
        "stock=pd.read_csv('/content/stock_data.csv')\n"
      ],
      "execution_count": 5,
      "outputs": []
    },
    {
      "cell_type": "code",
      "metadata": {
        "id": "owjCUYDcgj5L"
      },
      "source": [
        "stock=transform(stock)\n",
        "stock=kalman_filter(stock)"
      ],
      "execution_count": null,
      "outputs": []
    },
    {
      "cell_type": "code",
      "metadata": {
        "id": "GO-czYHGvyZK",
        "outputId": "003cd1c4-0067-4c1a-9783-ded6b5872a34",
        "colab": {
          "base_uri": "https://localhost:8080/",
          "height": 363
        }
      },
      "source": [
        "stock.head(10)"
      ],
      "execution_count": 8,
      "outputs": [
        {
          "output_type": "execute_result",
          "data": {
            "text/plain": [
              "    Adj Close  diff Open Close      Volume\n",
              "6    1.535510         0.090000   7942700.0\n",
              "7    2.287710        -2.169998   6577900.0\n",
              "8    2.252390         1.410000   6684100.0\n",
              "9    1.777105         1.673333   7641500.0\n",
              "10   0.955765         1.936667   8598900.0\n",
              "11  -0.140360         2.200001   9556300.0\n",
              "12  -1.187368        -0.490002   7883200.0\n",
              "13  -3.114805         1.609997  10442600.0\n",
              "14  -3.566950        -2.879997  11617300.0\n",
              "15  -3.873033         0.209999   8258200.0"
            ],
            "text/html": [
              "\n",
              "  <div id=\"df-187fd398-775b-43f8-9209-86b52a0b2739\">\n",
              "    <div class=\"colab-df-container\">\n",
              "      <div>\n",
              "<style scoped>\n",
              "    .dataframe tbody tr th:only-of-type {\n",
              "        vertical-align: middle;\n",
              "    }\n",
              "\n",
              "    .dataframe tbody tr th {\n",
              "        vertical-align: top;\n",
              "    }\n",
              "\n",
              "    .dataframe thead th {\n",
              "        text-align: right;\n",
              "    }\n",
              "</style>\n",
              "<table border=\"1\" class=\"dataframe\">\n",
              "  <thead>\n",
              "    <tr style=\"text-align: right;\">\n",
              "      <th></th>\n",
              "      <th>Adj Close</th>\n",
              "      <th>diff Open Close</th>\n",
              "      <th>Volume</th>\n",
              "    </tr>\n",
              "  </thead>\n",
              "  <tbody>\n",
              "    <tr>\n",
              "      <th>6</th>\n",
              "      <td>1.535510</td>\n",
              "      <td>0.090000</td>\n",
              "      <td>7942700.0</td>\n",
              "    </tr>\n",
              "    <tr>\n",
              "      <th>7</th>\n",
              "      <td>2.287710</td>\n",
              "      <td>-2.169998</td>\n",
              "      <td>6577900.0</td>\n",
              "    </tr>\n",
              "    <tr>\n",
              "      <th>8</th>\n",
              "      <td>2.252390</td>\n",
              "      <td>1.410000</td>\n",
              "      <td>6684100.0</td>\n",
              "    </tr>\n",
              "    <tr>\n",
              "      <th>9</th>\n",
              "      <td>1.777105</td>\n",
              "      <td>1.673333</td>\n",
              "      <td>7641500.0</td>\n",
              "    </tr>\n",
              "    <tr>\n",
              "      <th>10</th>\n",
              "      <td>0.955765</td>\n",
              "      <td>1.936667</td>\n",
              "      <td>8598900.0</td>\n",
              "    </tr>\n",
              "    <tr>\n",
              "      <th>11</th>\n",
              "      <td>-0.140360</td>\n",
              "      <td>2.200001</td>\n",
              "      <td>9556300.0</td>\n",
              "    </tr>\n",
              "    <tr>\n",
              "      <th>12</th>\n",
              "      <td>-1.187368</td>\n",
              "      <td>-0.490002</td>\n",
              "      <td>7883200.0</td>\n",
              "    </tr>\n",
              "    <tr>\n",
              "      <th>13</th>\n",
              "      <td>-3.114805</td>\n",
              "      <td>1.609997</td>\n",
              "      <td>10442600.0</td>\n",
              "    </tr>\n",
              "    <tr>\n",
              "      <th>14</th>\n",
              "      <td>-3.566950</td>\n",
              "      <td>-2.879997</td>\n",
              "      <td>11617300.0</td>\n",
              "    </tr>\n",
              "    <tr>\n",
              "      <th>15</th>\n",
              "      <td>-3.873033</td>\n",
              "      <td>0.209999</td>\n",
              "      <td>8258200.0</td>\n",
              "    </tr>\n",
              "  </tbody>\n",
              "</table>\n",
              "</div>\n",
              "      <button class=\"colab-df-convert\" onclick=\"convertToInteractive('df-187fd398-775b-43f8-9209-86b52a0b2739')\"\n",
              "              title=\"Convert this dataframe to an interactive table.\"\n",
              "              style=\"display:none;\">\n",
              "        \n",
              "  <svg xmlns=\"http://www.w3.org/2000/svg\" height=\"24px\"viewBox=\"0 0 24 24\"\n",
              "       width=\"24px\">\n",
              "    <path d=\"M0 0h24v24H0V0z\" fill=\"none\"/>\n",
              "    <path d=\"M18.56 5.44l.94 2.06.94-2.06 2.06-.94-2.06-.94-.94-2.06-.94 2.06-2.06.94zm-11 1L8.5 8.5l.94-2.06 2.06-.94-2.06-.94L8.5 2.5l-.94 2.06-2.06.94zm10 10l.94 2.06.94-2.06 2.06-.94-2.06-.94-.94-2.06-.94 2.06-2.06.94z\"/><path d=\"M17.41 7.96l-1.37-1.37c-.4-.4-.92-.59-1.43-.59-.52 0-1.04.2-1.43.59L10.3 9.45l-7.72 7.72c-.78.78-.78 2.05 0 2.83L4 21.41c.39.39.9.59 1.41.59.51 0 1.02-.2 1.41-.59l7.78-7.78 2.81-2.81c.8-.78.8-2.07 0-2.86zM5.41 20L4 18.59l7.72-7.72 1.47 1.35L5.41 20z\"/>\n",
              "  </svg>\n",
              "      </button>\n",
              "      \n",
              "  <style>\n",
              "    .colab-df-container {\n",
              "      display:flex;\n",
              "      flex-wrap:wrap;\n",
              "      gap: 12px;\n",
              "    }\n",
              "\n",
              "    .colab-df-convert {\n",
              "      background-color: #E8F0FE;\n",
              "      border: none;\n",
              "      border-radius: 50%;\n",
              "      cursor: pointer;\n",
              "      display: none;\n",
              "      fill: #1967D2;\n",
              "      height: 32px;\n",
              "      padding: 0 0 0 0;\n",
              "      width: 32px;\n",
              "    }\n",
              "\n",
              "    .colab-df-convert:hover {\n",
              "      background-color: #E2EBFA;\n",
              "      box-shadow: 0px 1px 2px rgba(60, 64, 67, 0.3), 0px 1px 3px 1px rgba(60, 64, 67, 0.15);\n",
              "      fill: #174EA6;\n",
              "    }\n",
              "\n",
              "    [theme=dark] .colab-df-convert {\n",
              "      background-color: #3B4455;\n",
              "      fill: #D2E3FC;\n",
              "    }\n",
              "\n",
              "    [theme=dark] .colab-df-convert:hover {\n",
              "      background-color: #434B5C;\n",
              "      box-shadow: 0px 1px 3px 1px rgba(0, 0, 0, 0.15);\n",
              "      filter: drop-shadow(0px 1px 2px rgba(0, 0, 0, 0.3));\n",
              "      fill: #FFFFFF;\n",
              "    }\n",
              "  </style>\n",
              "\n",
              "      <script>\n",
              "        const buttonEl =\n",
              "          document.querySelector('#df-187fd398-775b-43f8-9209-86b52a0b2739 button.colab-df-convert');\n",
              "        buttonEl.style.display =\n",
              "          google.colab.kernel.accessAllowed ? 'block' : 'none';\n",
              "\n",
              "        async function convertToInteractive(key) {\n",
              "          const element = document.querySelector('#df-187fd398-775b-43f8-9209-86b52a0b2739');\n",
              "          const dataTable =\n",
              "            await google.colab.kernel.invokeFunction('convertToInteractive',\n",
              "                                                     [key], {});\n",
              "          if (!dataTable) return;\n",
              "\n",
              "          const docLinkHtml = 'Like what you see? Visit the ' +\n",
              "            '<a target=\"_blank\" href=https://colab.research.google.com/notebooks/data_table.ipynb>data table notebook</a>'\n",
              "            + ' to learn more about interactive tables.';\n",
              "          element.innerHTML = '';\n",
              "          dataTable['output_type'] = 'display_data';\n",
              "          await google.colab.output.renderOutput(dataTable, element);\n",
              "          const docLink = document.createElement('div');\n",
              "          docLink.innerHTML = docLinkHtml;\n",
              "          element.appendChild(docLink);\n",
              "        }\n",
              "      </script>\n",
              "    </div>\n",
              "  </div>\n",
              "  "
            ]
          },
          "metadata": {},
          "execution_count": 8
        }
      ]
    },
    {
      "cell_type": "code",
      "metadata": {
        "id": "aO4lS3ODvyZf"
      },
      "source": [
        "x=stock.values"
      ],
      "execution_count": 9,
      "outputs": []
    },
    {
      "cell_type": "code",
      "metadata": {
        "id": "pPNDZ8kBvyZt",
        "outputId": "749f2cac-27c2-414b-b084-44ae7f886844",
        "colab": {
          "base_uri": "https://localhost:8080/"
        }
      },
      "source": [
        "x.shape"
      ],
      "execution_count": 10,
      "outputs": [
        {
          "output_type": "execute_result",
          "data": {
            "text/plain": [
              "(4011, 3)"
            ]
          },
          "metadata": {},
          "execution_count": 10
        }
      ]
    },
    {
      "cell_type": "markdown",
      "metadata": {
        "id": "gefQe_zap4ve"
      },
      "source": [
        "## Normalizacion datos"
      ]
    },
    {
      "cell_type": "code",
      "metadata": {
        "id": "B7waTc65rMJK"
      },
      "source": [
        "from sklearn.preprocessing import MinMaxScaler, StandardScaler\n",
        "\n",
        "scaler0=StandardScaler()\n",
        "scaler0.fit(x[:,0].reshape(x[:,0].shape[0],1))\n",
        "x[:,0]=(scaler0.transform(x[:,0].reshape(x[:,0].shape[0],1))).flatten()\n",
        "\n",
        "\n",
        "scaler1=StandardScaler()\n",
        "scaler1.fit(x[:,1].reshape(x[:,1].shape[0],1))\n",
        "x[:,1]=(scaler1.transform(x[:,1].reshape(x[:,1].shape[0],1))).flatten()\n",
        "\n",
        "\n",
        "scaler2=StandardScaler()\n",
        "scaler2.fit(x[:,2].reshape(x[:,2].shape[0],1))\n",
        "x[:,2]=(scaler2.transform(x[:,2].reshape(x[:,2].shape[0],1))).flatten()"
      ],
      "execution_count": 11,
      "outputs": []
    },
    {
      "cell_type": "code",
      "metadata": {
        "id": "qm0xs482vyZ6"
      },
      "source": [
        "def timeseries_to_supervised( X, timesteps,n_target):\n",
        "\n",
        "    x = np.zeros( [len(X)-(timesteps+n_target), timesteps, X.shape[1] ] )\n",
        "    y = np.zeros( [len(X)-(timesteps+n_target), n_target ] )\n",
        "\n",
        "    for t in range(timesteps):\n",
        "        x[:,t] = X[t:-(timesteps+n_target)+t,:]\n",
        "    for i in range(n_target):\n",
        "        y[:,i] = X[timesteps+i:-(n_target-i),0]\n",
        "    return x,y"
      ],
      "execution_count": 12,
      "outputs": []
    },
    {
      "cell_type": "code",
      "metadata": {
        "id": "m8N6imWRvyaH"
      },
      "source": [
        "X,y=timeseries_to_supervised(x , 30, 2 )"
      ],
      "execution_count": 13,
      "outputs": []
    },
    {
      "cell_type": "code",
      "metadata": {
        "id": "s0iEAEa5vyaV",
        "outputId": "b546f228-d1fa-4334-d309-c40f021d1d9f",
        "colab": {
          "base_uri": "https://localhost:8080/"
        }
      },
      "source": [
        "X[-1,:,0]"
      ],
      "execution_count": 14,
      "outputs": [
        {
          "output_type": "execute_result",
          "data": {
            "text/plain": [
              "array([-0.15247687, -0.14888247, -0.14885592, -0.15168367, -0.15912743,\n",
              "       -0.16920899, -0.18627073, -0.19497004, -0.20223961, -0.20836538,\n",
              "       -0.21357612, -0.22232978, -0.22509932, -0.22214676, -0.21951317,\n",
              "       -0.21617916, -0.21228482, -0.20794221, -0.1949196 , -0.18745287,\n",
              "       -0.17780699, -0.17266327, -0.1675838 , -0.16255573, -0.15756878,\n",
              "       -0.15526636, -0.1357163 , -0.10236813, -0.07523108, -0.05692091])"
            ]
          },
          "metadata": {},
          "execution_count": 14
        }
      ]
    },
    {
      "cell_type": "code",
      "metadata": {
        "id": "3uKv_76xvyao",
        "outputId": "c24a32f1-4c39-4e7a-efd9-0bdb3fa6ada7",
        "colab": {
          "base_uri": "https://localhost:8080/"
        }
      },
      "source": [
        "y[-1,:]"
      ],
      "execution_count": 15,
      "outputs": [
        {
          "output_type": "execute_result",
          "data": {
            "text/plain": [
              "array([-0.04567225, -0.0400728 ])"
            ]
          },
          "metadata": {},
          "execution_count": 15
        }
      ]
    },
    {
      "cell_type": "markdown",
      "metadata": {
        "id": "LoPF58uL0AmD"
      },
      "source": [
        "## Variabile a predicir"
      ]
    },
    {
      "cell_type": "code",
      "metadata": {
        "id": "s8JXjso90EVh",
        "outputId": "626ac760-8ef5-4186-9e80-19194fc2bf9b",
        "colab": {
          "base_uri": "https://localhost:8080/"
        }
      },
      "source": [
        "precio_ultimo_dia=X[:,-1,0]\n",
        "precio_dos_dias_despues=y[:,1]\n",
        "target=precio_dos_dias_despues-precio_ultimo_dia\n",
        "target[target<=0]=0\n",
        "target[target>0]=1\n",
        "target[:10]"
      ],
      "execution_count": 16,
      "outputs": [
        {
          "output_type": "execute_result",
          "data": {
            "text/plain": [
              "array([1., 1., 1., 1., 1., 1., 0., 0., 0., 0.])"
            ]
          },
          "metadata": {},
          "execution_count": 16
        }
      ]
    },
    {
      "cell_type": "markdown",
      "metadata": {
        "id": "zxOMnJDJA7yF"
      },
      "source": [
        "## Variabile INPUT"
      ]
    },
    {
      "cell_type": "code",
      "metadata": {
        "id": "QylfgonIBBAH",
        "outputId": "c3111992-0f02-4d33-fef3-d9787fe86373",
        "colab": {
          "base_uri": "https://localhost:8080/"
        }
      },
      "source": [
        "X.shape"
      ],
      "execution_count": 17,
      "outputs": [
        {
          "output_type": "execute_result",
          "data": {
            "text/plain": [
              "(3979, 30, 3)"
            ]
          },
          "metadata": {},
          "execution_count": 17
        }
      ]
    },
    {
      "cell_type": "markdown",
      "metadata": {
        "id": "KzsUlKwSvybW"
      },
      "source": [
        "## Training y Test"
      ]
    },
    {
      "cell_type": "code",
      "metadata": {
        "id": "z_7GAobQOYPD"
      },
      "source": [
        "from sklearn.utils import shuffle\n",
        "X,target=shuffle(X,target)"
      ],
      "execution_count": 18,
      "outputs": []
    },
    {
      "cell_type": "code",
      "metadata": {
        "id": "j1PRlId7vybo"
      },
      "source": [
        "tt=int(0.9*len(X))\n",
        "\n",
        "\n",
        "x_train,x_test = X[:tt],X[tt:]\n",
        "y_train,y_test = target[:tt],target[tt:]\n"
      ],
      "execution_count": 19,
      "outputs": []
    },
    {
      "cell_type": "code",
      "metadata": {
        "id": "zrZLaNrOvyb1",
        "outputId": "5f64ee2e-6045-4f0b-eba1-6f9bbda23d92",
        "colab": {
          "base_uri": "https://localhost:8080/"
        }
      },
      "source": [
        "x_train.shape"
      ],
      "execution_count": 20,
      "outputs": [
        {
          "output_type": "execute_result",
          "data": {
            "text/plain": [
              "(3581, 30, 3)"
            ]
          },
          "metadata": {},
          "execution_count": 20
        }
      ]
    },
    {
      "cell_type": "code",
      "metadata": {
        "id": "Z3nhCN88QbqV"
      },
      "source": [
        "#x_train[1,range(0,90,3)[0]]"
      ],
      "execution_count": 21,
      "outputs": []
    },
    {
      "cell_type": "code",
      "metadata": {
        "id": "yefXQZlOvycD",
        "outputId": "3e885c0a-6483-47a5-e7fb-bc7c479361b9",
        "colab": {
          "base_uri": "https://localhost:8080/"
        }
      },
      "source": [
        "y_train.shape"
      ],
      "execution_count": 22,
      "outputs": [
        {
          "output_type": "execute_result",
          "data": {
            "text/plain": [
              "(3581,)"
            ]
          },
          "metadata": {},
          "execution_count": 22
        }
      ]
    },
    {
      "cell_type": "code",
      "metadata": {
        "id": "xuFNmTYlvycM",
        "outputId": "f5e08467-384a-49b0-91ab-e1406307df8c",
        "colab": {
          "base_uri": "https://localhost:8080/"
        }
      },
      "source": [
        "x_test.shape"
      ],
      "execution_count": 23,
      "outputs": [
        {
          "output_type": "execute_result",
          "data": {
            "text/plain": [
              "(398, 30, 3)"
            ]
          },
          "metadata": {},
          "execution_count": 23
        }
      ]
    },
    {
      "cell_type": "code",
      "metadata": {
        "id": "aRuqN06BvycV",
        "outputId": "0cf04fb9-77c5-4249-f120-a4d1a97303f4",
        "colab": {
          "base_uri": "https://localhost:8080/"
        }
      },
      "source": [
        "y_test.shape"
      ],
      "execution_count": 24,
      "outputs": [
        {
          "output_type": "execute_result",
          "data": {
            "text/plain": [
              "(398,)"
            ]
          },
          "metadata": {},
          "execution_count": 24
        }
      ]
    },
    {
      "cell_type": "code",
      "metadata": {
        "id": "0Idjev5poIG4"
      },
      "source": [
        "y_test=y_test.reshape(y_test.shape[0],1)\n",
        "y_train=y_train.reshape(y_train.shape[0],1)"
      ],
      "execution_count": 25,
      "outputs": []
    },
    {
      "cell_type": "code",
      "metadata": {
        "id": "ewAPIoWqoO7D",
        "colab": {
          "base_uri": "https://localhost:8080/"
        },
        "outputId": "7d2be811-688d-4803-ca03-098346e99222"
      },
      "source": [
        "y_test.shape"
      ],
      "execution_count": 26,
      "outputs": [
        {
          "output_type": "execute_result",
          "data": {
            "text/plain": [
              "(398, 1)"
            ]
          },
          "metadata": {},
          "execution_count": 26
        }
      ]
    },
    {
      "cell_type": "code",
      "metadata": {
        "id": "Z-daKDKHoR4c",
        "colab": {
          "base_uri": "https://localhost:8080/"
        },
        "outputId": "0f81a74b-0f24-44ec-fe83-7bb3f216d083"
      },
      "source": [
        "y_train.shape"
      ],
      "execution_count": 27,
      "outputs": [
        {
          "output_type": "execute_result",
          "data": {
            "text/plain": [
              "(3581, 1)"
            ]
          },
          "metadata": {},
          "execution_count": 27
        }
      ]
    },
    {
      "cell_type": "markdown",
      "metadata": {
        "id": "kx0-zsBnzz_0"
      },
      "source": [
        "## Modelo"
      ]
    },
    {
      "cell_type": "code",
      "metadata": {
        "id": "59oTi1-bhNgm"
      },
      "source": [
        "import keras\n",
        "\n",
        "from keras.models import Sequential, Model, load_model\n",
        "from keras.layers import Input, Reshape, Flatten, Activation\n",
        "from keras.layers import Dropout, BatchNormalization, GaussianNoise\n",
        "from keras.layers import Dense, LSTM\n",
        "from keras.constraints import maxnorm\n",
        "from tensorflow.keras.optimizers import RMSprop, SGD, Adadelta, Adagrad, Adam"
      ],
      "execution_count": 35,
      "outputs": []
    },
    {
      "cell_type": "code",
      "metadata": {
        "id": "VeaVEColhNuw",
        "colab": {
          "base_uri": "https://localhost:8080/"
        },
        "outputId": "c81ef105-0554-4d89-97c0-b02f48cebabe"
      },
      "source": [
        "_tensor_ = input_tensor = Input( shape=( x_train.shape[1], x_train.shape[2] ), name='main_input' )\n",
        "_tensor_ = GaussianNoise(0.15)(_tensor_)\n",
        "_tensor_ = LSTM( 51, activation='relu', kernel_constraint=maxnorm(3.0), return_sequences=True  )(_tensor_)\n",
        "\n",
        "_tensor_ = Flatten()(_tensor_)\n",
        "\n",
        "_tensor_ = Dense( 80, activation='relu', kernel_constraint=maxnorm(3.0) )(_tensor_)\n",
        "\n",
        "_tensor_ = Dense( 50, activation='relu', kernel_constraint=maxnorm(3.0) )(_tensor_)\n",
        "\n",
        "_tensor_ = Dense( 20, activation='relu', kernel_constraint=maxnorm(3.0) )(_tensor_)\n",
        "\n",
        "output_tensor = Dense( 1, activation='sigmoid', kernel_constraint=maxnorm(3.0) )(_tensor_)\n",
        "\n",
        "\n",
        "model=Model( input_tensor, output_tensor )\n",
        "model.compile( loss='mse', optimizer=Adagrad() ) \n",
        "model.summary()"
      ],
      "execution_count": 36,
      "outputs": [
        {
          "output_type": "stream",
          "name": "stdout",
          "text": [
            "Model: \"model\"\n",
            "_________________________________________________________________\n",
            " Layer (type)                Output Shape              Param #   \n",
            "=================================================================\n",
            " main_input (InputLayer)     [(None, 30, 3)]           0         \n",
            "                                                                 \n",
            " gaussian_noise (GaussianNoi  (None, 30, 3)            0         \n",
            " se)                                                             \n",
            "                                                                 \n",
            " lstm (LSTM)                 (None, 30, 51)            11220     \n",
            "                                                                 \n",
            " flatten (Flatten)           (None, 1530)              0         \n",
            "                                                                 \n",
            " dense (Dense)               (None, 80)                122480    \n",
            "                                                                 \n",
            " dense_1 (Dense)             (None, 50)                4050      \n",
            "                                                                 \n",
            " dense_2 (Dense)             (None, 20)                1020      \n",
            "                                                                 \n",
            " dense_3 (Dense)             (None, 1)                 21        \n",
            "                                                                 \n",
            "=================================================================\n",
            "Total params: 138,791\n",
            "Trainable params: 138,791\n",
            "Non-trainable params: 0\n",
            "_________________________________________________________________\n"
          ]
        }
      ]
    },
    {
      "cell_type": "code",
      "metadata": {
        "id": "bFz6M131hN7l"
      },
      "source": [
        "model.fit( x_train, y_train, batch_size=300, epochs=150, shuffle=True, verbose=1 )"
      ],
      "execution_count": null,
      "outputs": []
    },
    {
      "cell_type": "code",
      "metadata": {
        "id": "CA8oBWiHkdTw"
      },
      "source": [
        "y_pred = model.predict( x_test )\n"
      ],
      "execution_count": 38,
      "outputs": []
    },
    {
      "cell_type": "code",
      "metadata": {
        "id": "RZnmwFy1vOb-"
      },
      "source": [
        "y_pred_class=np.copy(y_pred)\n",
        "y_pred_class[y_pred<0.6]=0\n",
        "y_pred_class[y_pred>=0.6]=1"
      ],
      "execution_count": 39,
      "outputs": []
    },
    {
      "cell_type": "code",
      "metadata": {
        "id": "5E6t4UTVmeHD",
        "colab": {
          "base_uri": "https://localhost:8080/"
        },
        "outputId": "9d426306-912a-4750-be5c-d649e8601709"
      },
      "source": [
        "from sklearn.metrics import confusion_matrix\n",
        "\n",
        "confusion_matrix(y_test,y_pred_class)"
      ],
      "execution_count": 40,
      "outputs": [
        {
          "output_type": "execute_result",
          "data": {
            "text/plain": [
              "array([[161,   0],\n",
              "       [237,   0]])"
            ]
          },
          "metadata": {},
          "execution_count": 40
        }
      ]
    },
    {
      "cell_type": "code",
      "metadata": {
        "id": "vFqSI6Xpnluj",
        "colab": {
          "base_uri": "https://localhost:8080/"
        },
        "outputId": "12312cf6-31c5-4cc2-b634-2824649dbc75"
      },
      "source": [
        "(y_test==y_pred_class).sum()"
      ],
      "execution_count": 41,
      "outputs": [
        {
          "output_type": "execute_result",
          "data": {
            "text/plain": [
              "161"
            ]
          },
          "metadata": {},
          "execution_count": 41
        }
      ]
    },
    {
      "cell_type": "code",
      "metadata": {
        "id": "1oqVK4jpnocI",
        "colab": {
          "base_uri": "https://localhost:8080/"
        },
        "outputId": "c3daf259-0d29-4a82-c7a9-56c354f5f9fc"
      },
      "source": [
        "y_test.shape"
      ],
      "execution_count": 42,
      "outputs": [
        {
          "output_type": "execute_result",
          "data": {
            "text/plain": [
              "(398, 1)"
            ]
          },
          "metadata": {},
          "execution_count": 42
        }
      ]
    }
  ]
}